{
 "cells": [
  {
   "cell_type": "code",
   "execution_count": 3,
   "metadata": {},
   "outputs": [],
   "source": [
    "%config IPCompleter.greedy=True"
   ]
  },
  {
   "cell_type": "code",
   "execution_count": 25,
   "metadata": {
    "colab": {},
    "colab_type": "code",
    "id": "biorRq4xXODO"
   },
   "outputs": [],
   "source": [
    "import requests\n",
    "from bs4 import BeautifulSoup\n",
    "import pandas as pd\n",
    "import json"
   ]
  },
  {
   "cell_type": "code",
   "execution_count": 16,
   "metadata": {
    "colab": {},
    "colab_type": "code",
    "id": "4ep7aoiOqoFN"
   },
   "outputs": [],
   "source": [
    "exampleURL1 = 'https://fc2.com/en/'\n",
    "response = requests.get(exampleURL1)\n"
   ]
  },
  {
   "cell_type": "code",
   "execution_count": 17,
   "metadata": {
    "colab": {
     "base_uri": "https://localhost:8080/",
     "height": 1000
    },
    "colab_type": "code",
    "collapsed": true,
    "id": "M7rl5rZVrHu6",
    "outputId": "e708ebdb-c218-450e-cf46-8a404e831815"
   },
   "outputs": [
    {
     "data": {
      "text/plain": [
       "<!DOCTYPE html PUBLIC \"-//W3C//DTD XHTML 1.0 Transitional//EN\" \"http://www.w3.org/TR/xhtml1/DTD/xhtml1-transitional.dtd\">\n",
       "<html lang=\"en\" xml:lang=\"en\" xmlns=\"http://www.w3.org/1999/xhtml\"><head>\n",
       "<meta content=\"text/html; charset=utf-8\" http-equiv=\"Content-Type\"/>\n",
       "<title>FC2 - Free Website, Analyzer, Blog, Rental Server, SEO Countermeasures, etc. -</title>\n",
       "<meta content=\"FC2 is a portal site which brings you a pleasant web life providing blog/website/analyzer services and others. Our blog service is ranked No.2 domestically and supported by wide range of users including both beginners and heavy users. We offer as many as 30 different services.\" name=\"description\"/>\n",
       "<meta content=\"FC2 Blog, Website, Free, Analyzer, Counter, Bulletin Board, BBS, Icon, Rental Server, Shopping Mall, Shopping Cart, Mobile Phone, Mail Form, Adult\" name=\"keywords\"/>\n",
       "<link href=\"//fc2.com/en/\" rel=\"canonical\"/>\n",
       "\n",
       "<meta content=\"FC2,Inc.\" name=\"author\"/>\n",
       "<meta content=\"Copyright (c) 1999 FC2 inc. / Copyright (c) 2017 Papyrus B.V.\" name=\"copyright\"/>\n",
       "<meta content=\"text/css\" http-equiv=\"Content-Style-Type\"/>\n",
       "<meta content=\"text/javascript\" http-equiv=\"Content-Script-Type\"/>\n",
       "<link href=\"//static.fc2.com/share/image/favicon.ico\" rel=\"shortcut icon\"/>\n",
       "\n",
       "<link href=\"//static.fc2.com/share/css/common.css\" rel=\"stylesheet\" type=\"text/css\"/>\n",
       "\n",
       "<link href=\"//static.fc2.com/share/fc2parts/css/share.css\" rel=\"stylesheet\" type=\"text/css\"/>\n",
       "\n",
       "<link href=\"//static.fc2.com/fc2com/css/fc2com_default_140313.css\" rel=\"stylesheet\" type=\"text/css\"/>\n",
       "\n",
       "<link href=\"//static.fc2.com/fc2com/css/fc2com_default_foreign.css\" rel=\"stylesheet\" type=\"text/css\"/>\n",
       "\n",
       "\n",
       "<!--[if lt IE 8]>\n",
       "<link rel=\"stylesheet\" type=\"text/css\" href=\"//static.fc2.com/fc2com/en/css/ie.css\" media=\"all\" />\n",
       "<![endif]-->\n",
       "\n",
       "<script src=\"//static.fc2.com/fc2com/js/jquery-1.2.6.min.js\" type=\"text/javascript\"></script>\n",
       "<script src=\"//static.fc2.com/fc2com/js/tab_panel.js\" type=\"text/javascript\"></script>\n",
       "<script src=\"//static.fc2.com/share/fc2parts/js/common_design.js\" type=\"text/javascript\"></script>\n",
       "\n",
       "\n",
       "<script src=\"//static.fc2.com/fc2com/js/sp_en.js?130128\" type=\"text/javascript\"></script>\n",
       "<link href=\"//static.fc2.com/fc2com/css/sp.css\" rel=\"stylesheet\" type=\"text/css\"/>\n",
       "</head>\n",
       "\n",
       "<body>\n",
       "<div id=\"spbar\">\n",
       "<!-- fc2comnew -->\n",
       "<!-- header_box -->\n",
       "<div id=\"sh_header_box\">\n",
       "\t<div id=\"sh_header_col\">\n",
       "\t\t<div class=\"sh_search\">\n",
       "\t\t</div>\n",
       "\t\t<div class=\"sh_langselect\">\n",
       "\t\t\t<ul>\n",
       "\t<li><select onchange=\"javascript:location.replace('https://' + document.domain + '/' + this.options[this.selectedIndex].value);\"><option value=\"\">Language</option><option value=\"ja/\">日本語</option><option value=\"en/\">English</option><option value=\"tw/\">繁體中文</option><option value=\"cn/\">简体中文</option><option value=\"th/\">ภาษาไทย</option><option value=\"ko/\">한국어</option><option value=\"de/\">Deutsch</option><option value=\"es/\">Español</option><option value=\"ru/\">Русский</option><option value=\"fr/\">Français</option><option value=\"id/\">Indonesia</option><option value=\"pt/\">Português</option><option value=\"vi/\">Tiếng Việt</option></select></li>\t\t\t</ul>\n",
       "\t\t</div>\n",
       "\t\t<div class=\"sh_header_nav\">\n",
       "\t\t\t<ul>\n",
       "\t\t\t\t\t\t\t\t<!-- <li><a href=\"http://id.fc2.com/?done=id&switch_language=ja\">FC2ID</a></li> -->\n",
       "\t\t\t</ul>\n",
       "\t\t</div>\n",
       "\t</div>\n",
       "</div>\n",
       "<!-- /header_box -->\n",
       "\n",
       "<div class=\"clear\" id=\"container\">\n",
       "\t\t\t<div class=\"whenIE7below\" id=\"header\">\n",
       "\t<h1><a href=\"//fc2.com/en/\">FC2 Total Web Solutions</a></h1>\n",
       "\t</div>\n",
       "\t\n",
       "\n",
       "\n",
       "<!-- main -->\n",
       "\t<div class=\"clear\" id=\"main\">\n",
       "<!-- content -->\n",
       "\t\t<div id=\"content\">\n",
       "<!-- content_body -->\n",
       "\t\t\t<div class=\"content_body clear\">\n",
       "\t\t\t\t<div id=\"inf_box\">\n",
       "\t\t\t\t\t<ul class=\"tab\">\n",
       "\t\t\t\t\t\t<li class=\"left_side middle_tab_alfabet\">\n",
       "\t\t\t\t\t\tNotice</li>\n",
       "\t\t\t\t\t\t\t\t\t\t\t\t\t\t\t\t\t\t\t\t\t\t\t\t\t\t\t\t\t\t\t\t\t\t\t\t<li class=\"middle_tab middle_tab_alfabet\">\n",
       "\t\t\t\t\t\tNew Entries\t\t\t\t\t\t</li>\n",
       "\t\t\t\t\t\t\t\t\t\t\t\t\t\t\t\t\t\t\t\t\t\t\t\t\t\t\t\t\t\t\t\t\t\t\t</ul>\n",
       "\t\t\t\t\t<ul class=\"panel\">\n",
       "\t\t\t\t\t\t<li class=\"p_body\">\n",
       "\t\t\t\t\t\t\t<script src=\"//fc2.com/en/notice.js\" type=\"text/javascript\"></script>\n",
       "\t\t\t\t\t\t</li>\n",
       "\t\t\t\t\t\t<li class=\"p_body\" style=\"display:none;\">\n",
       "\t\t\t\t\t\t\t<script src=\"//fc2.com/en/newentry.js\" type=\"text/javascript\"></script>\n",
       "\t\t\t\t\t\t</li>\n",
       "\t\t\t\t\t</ul>\n",
       "\t\t\t\t</div>\n",
       "\t\t\t</div>\n",
       "<!-- /content_body -->\n",
       "\n",
       "<!-- content_body -->\n",
       "\t\t\t<div class=\"content_body\">\n",
       "\t\t\t\t<h2 class=\"sh_heading_main_b\" id=\"pagetop\"><span>Services</span></h2>\n",
       "\n",
       "\n",
       "\t\t\t\t<div class=\"service_body\">\n",
       "\t\t\t\t\t<dl>\n",
       "\t\t\t\t\t\t<dt>\n",
       "\t\t\t\t\t\t<a class=\"service_img\" href=\"https://blog.fc2.com/en/\" id=\"service_blog\" title=\"FC2 Blog\"> </a><a href=\"https://blog.fc2.com/en/\" title=\"FC2 Blog\">Blog</a>\n",
       "\t\t\t\t\t\t</dt>\n",
       "\t\t\t\t\t\t<dd>Easy for beginners! Plenty of templates available!</dd>\n",
       "\t\t\t\t\t</dl>\n",
       "\t\t\t\t\t<dl>\n",
       "\t\t\t\t\t\t<dt>\n",
       "\t\t\t\t\t\t<a class=\"service_img\" href=\"https://video.fc2.com/en/\" id=\"service_video\" title=\"FC2 Video\"> </a><a href=\"https://video.fc2.com/en/\" title=\"FC2 Video\">Video</a>\n",
       "\t\t\t\t\t\t</dt>\n",
       "\t\t\t\t\t\t<dd>Upload your favorite videos. Watch them from your mobile phone! Paying Members can watch in full High Definition!</dd>\n",
       "\t\t\t\t\t</dl>\n",
       "\t\t\t\t\t<dl>\n",
       "\t\t\t\t\t\t<dt>\n",
       "\t\t\t\t\t\t<a class=\"service_img\" href=\"https://live.fc2.com/en/\" id=\"service_livechat\" title=\"FC2 Live Here\"> </a><a href=\"https://live.fc2.com/en/\" title=\"FC2 Live Here\">Live</a>\n",
       "\t\t\t\t\t\t</dt>\n",
       "\t\t\t\t\t\t<dd>Broadcast a Program or enjoy a Two-way Video Chat.</dd>\n",
       "\t\t\t\t\t</dl>\n",
       "\t\t\t\t\t<dl>\n",
       "\t\t\t\t\t\t<dt><a class=\"service_img\" href=\"http://say-move.org/en/\" id=\"service_SayMove\" title=\"FC2 SayMove!\"> </a><a href=\"http://say-move.org/en/\" title=\"FC2 SayMove!\">SayMove!</a></dt>\n",
       "\t\t\t\t\t\t<dd>Stream comments onto videos! It's like live commentary! Great Fun!</dd>\n",
       "\t\t\t\t\t</dl>\n",
       "\t\t\t\t\t<dl>\n",
       "\t\t\t\t\t\t<dt><a class=\"service_img\" href=\"https://contents.fc2.com/language_change.php?lang=en\" id=\"service_contents\" onclick=\"_gaq.push(['_trackEvent', 'service_link', 'contents', 'icon',, true]);\" title=\"FC2 Content Market\"> </a><a href=\"https://contents.fc2.com/language_change.php?lang=en\" onclick=\"_gaq.push(['_trackEvent', 'service_link', 'contents', 'txt',, true]);\" title=\"FC2 Content Market\">Content Market</a></dt>\n",
       "\t\t\t\t\t\t<dd>Buy/Sell Digital Contents immediately with points</dd>\n",
       "\t\t\t\t\t</dl>\n",
       "\t\t\t\t\t<dl>\n",
       "\t\t\t\t\t\t<dt>\n",
       "\t\t\t\t\t\t<a class=\"service_img\" href=\"https://web.fc2.com/en/\" id=\"service_web\" title=\"Free FC2 Website\"> </a><a href=\"https://web.fc2.com/en/\" title=\"Free FC2 Website\">Free Website</a>\n",
       "\t\t\t\t\t\t</dt>\n",
       "\t\t\t\t\t\t<dd>No annoying ads, large-storage (1GB)! It's free!</dd>\n",
       "\t\t\t\t\t</dl>\n",
       "\t\t\t\t\t<dl>\n",
       "\t\t\t\t\t\t<dt><a class=\"service_img\" href=\"https://analyzer.fc2.com/en/\" id=\"service_analysis\" title=\"FC2 Analyzer\"> </a><a href=\"https://analyzer.fc2.com/en/\" title=\"FC2 Analyzer\">Analyzer</a>\n",
       "\t\t\t\t\t\t</dt>\n",
       "\t\t\t\t\t\t<dd>Analyze visitors' movements! Choose your favorite analysis icon.</dd>\n",
       "\t\t\t\t\t</dl>\n",
       "\t\t\t\t\t<dl>\n",
       "\t\t\t\t\t\t<dt><a class=\"service_img\" href=\"https://ranking.fc2.com/?lang=en\" id=\"service_ranking\" title=\"FC2 Ranking\"> </a><a href=\"https://ranking.fc2.com/?lang=en\" title=\"FC2 Ranking\">Ranking</a>\n",
       "\t\t\t\t\t\t</dt>\n",
       "\t\t\t\t\t\t<dd>See your own sites by ranking!<br/><br/></dd>\n",
       "\t\t\t\t\t</dl>\n",
       "\t\t\t\t\t<dl>\n",
       "\t\t\t\t\t\t<dt><a class=\"service_img\" href=\"https://counter.fc2.com/en/\" id=\"service_counter\" title=\"FC2 Counter\"> </a><a href=\"https://counter.fc2.com/en/\" title=\"FC2 Counter\">Counter</a>\n",
       "\t\t\t\t\t\t</dt>\n",
       "\t\t\t\t\t\t<dd>Lots of designs to choose from! Stop yourself from being counted.</dd>\n",
       "\t\t\t\t\t</dl>\n",
       "\t\t\t\t\t<dl>\n",
       "\t\t\t\t\t\t<dt><a class=\"service_img\" href=\"https://clap.fc2.com/en/\" id=\"service_clap\" title=\"Click here to see the FC2 Clap.\"> </a><a href=\"https://clap.fc2.com/en/\" title=\"Click here to see the FC2 Clap.\">Clap</a></dt>\n",
       "\t\t\t\t\t\t<dd>Send your cheers! Write your thanks.<br/><br/></dd>\n",
       "\t\t\t\t\t</dl>\n",
       "\t\t\t\t\t<dl>\n",
       "\t\t\t\t\t\t<dt><a class=\"service_img\" href=\"https://bbs.fc2.com/en/\" id=\"service_bbs\" title=\"FC2BBS\"> </a><a href=\"https://bbs.fc2.com/en/\" title=\"FC2BBS\">BBS</a></dt>\n",
       "\t\t\t\t\t\t<dd>Contact visitors! Compatible with mobile phones and emoticons.</dd>\n",
       "\t\t\t\t\t</dl>\n",
       "\t\t\t\t\t<dl>\n",
       "\t\t\t\t\t\t<dt><a class=\"service_img\" href=\"https://know-how.fc2.com/en/\" id=\"service_knowhow\" title=\"FC2 KnowHow\"> </a><a href=\"https://know-how.fc2.com/en/\" title=\"FC2 KnowHow\">Knowhow</a></dt>\n",
       "\t\t\t\t\t\t<dd>Share useful information and edit it together!</dd>\n",
       "\t\t\t\t\t</dl>\n",
       "\t\t\t\t\t<dl>\n",
       "\t\t\t\t\t\t<dt><a class=\"service_img\" href=\"https://sns.fc2.com/en/\" id=\"service_sns\" title=\"FC2 Rental SNS\"> </a><a href=\"https://sns.fc2.com/en/\" title=\"FC2 Rental SNS\">SNS</a></dt>\n",
       "\t\t\t\t\t\t<dd>Create and manage your own Social Networking Service! Make new friends!</dd>\n",
       "\t\t\t\t\t</dl>\n",
       "\t\t\t\t\t<dl>\n",
       "\t\t\t\t\t\t<dt><a class=\"service_img\" href=\"https://apps.fc2.com/\" id=\"service_apps\" title=\"FC2 Apps Here\"> </a><a href=\"https://apps.fc2.com/\" title=\"FC2 Apps Here\">Apps</a>\n",
       "\t\t\t\t\t\t</dt>\n",
       "\t\t\t\t\t\t<dd>FC2 Apps optimized for Smartphones.<br/><br/></dd>\n",
       "\t\t\t\t\t</dl>\n",
       "\t\t\t\t\t<dl>\n",
       "\t\t\t\t\t\t<dt><a class=\"service_img\" href=\"http://wifi.fc2.com/en/\" id=\"service_wifi\" title=\"FC2 WiFi HERE\"> </a><a href=\"http://wifi.fc2.com/en/\" title=\"FC2 WiFi HERE\">WiFi</a></dt>\n",
       "\t\t\t\t\t\t<dd>Connect to the Internet for Free wherever you are!</dd>\n",
       "\t\t\t\t\t</dl>\n",
       "\t\t\t\t\t<dl>\n",
       "\t\t\t\t\t\t<dt><a class=\"service_img\" href=\"https://r.fc2.com/en/\" id=\"service_r\" title=\"FC2 Image Resizing Tool\"> </a><a href=\"https://r.fc2.com/en/\" title=\"FC2 Image Resizing Tool\">Image Resizing Tool</a>\n",
       "\t\t\t\t\t\t</dt>\n",
       "\t\t\t\t\t\t<dd>Resize an image as you want it to be.</dd>\n",
       "\t\t\t\t\t</dl>\n",
       "\t\t\t\t</div><!-- /service_body -->\n",
       "\n",
       "\n",
       "\n",
       "\n",
       "\n",
       "\n",
       "\n",
       "\n",
       "\n",
       "\n",
       "\n",
       "\n",
       "\n",
       "\t\t\t</div><!-- /content_body -->\n",
       "\t\t</div><!-- /content -->\n",
       "<!-- header_ad 300x250 -->\n",
       "\t\t<ul class=\"ad_300x250\">\n",
       "\t\t\t<li>\n",
       "\t\t\t\n",
       "<!-- FC2管理用 -->\n",
       "<img height=\"1\" src=\"//media.fc2.com/counter_img.php?id=2930\" width=\"1\"/>\n",
       "<!-- FC2管理用 -->\n",
       "\n",
       "\t\t\t</li>\n",
       "\t\t</ul>\n",
       "<!-- /header_ad 300x250 -->\n",
       "\t</div><!-- /main -->\n",
       "\n",
       "<!-- menu -->\n",
       "\t<div id=\"menu\">\n",
       "\t\t<h3 class=\"sh_regist_en\"><a href=\"https://secure.id.fc2.com/signup.php?switch_language=en\" onclick=\"_gaq.push(['_trackEvent', 'regist', 'click', 'regist_btn',, true]);\"><img alt=\"Registration\" height=\"47\" src=\"//static.fc2.com/share/fc2footermenu/blank.gif\" width=\"200\"/></a></h3>\n",
       "\t\t<p align=\"center\" class=\"sh_login_text\">Register for FC2 ID and enjoy our convenient services!</p>\n",
       "\t\t<h3 class=\"sh_login_en\"><a href=\"https://secure.id.fc2.com/?done=id&amp;switch_language=en\" onclick=\"_gaq.push(['_trackEvent', 'login', 'click', 'login_btn',, true]);\"><img alt=\"Log in\" height=\"47\" src=\"//static.fc2.com/share/fc2footermenu/blank.gif\" width=\"200\"/></a></h3>\n",
       "\t\t<p align=\"center\" class=\"sh_login_text\">Log in here if you already have FC2 ID.</p>\n",
       "\n",
       "\t\t<div align=\"center\">\n",
       "\t\n",
       "\t\t\t\t<div id=\"fb-root\"></div>\n",
       "\t\t\t<script type=\"text/javascript\">\n",
       "\t\t\t(function(d, s, id) {\n",
       "\t\t\t\tvar js, fjs = d.getElementsByTagName(s)[0];\n",
       "\t\t\t\tif (d.getElementById(id)) {return;}\n",
       "\t\t\t\tjs = d.createElement(s); js.id = id;\n",
       "\t\t\t\tjs.src = \"//connect.facebook.net/en_US/all.js#xfbml=1\";\n",
       "\t\t\t\tfjs.parentNode.insertBefore(js, fjs);\n",
       "\t\t\t}(document, 'script', 'facebook-jssdk'));\n",
       "\t\t\t</script>\n",
       "\t\t\t<div class=\"fb-like-box\" data-border-color=\"#eeeeee\" data-header=\"false\" data-href=\"https://facebook.com/blog.fc2\" data-show-faces=\"false\" data-stream=\"false\" data-width=\"200\"></div>\n",
       "\t\n",
       "\t\t<a href=\"https://twitter.com/fc2staff\" target=\"_blank\"><img alt=\" \" class=\"bttn_twitter_follow_me\" src=\"//static.fc2.com/fc2com/image/twitter.png\"/></a>\t\t\t\t\t\t\t\t\t\t\t\t\t\t\t\t\t\t\t\t\n",
       "\t\t\t\t<!--\n",
       "\t\t<a href=\"//fc2.com/careers/en/index.html?utm_source=fc2com_en_pc&utm_medium=left_menu_bnr&utm_campaign=v1_en\" target=\"_blank\" target=\"_blank\" onclick=\"_gaq.push(['_trackEvent', 'bnr', 'click', 'recruit_bnr_en_v1',, true]);\"><img src=\"//static.fc2.com/fc2com/img/bnr_careers/bnr_careers_b1_en.png\" width=\"180\" height=\"180\" alt=\"FC2 Careers\" style=\"margin:16px 0;\" /></a>\n",
       "\t\t-->\n",
       "\t\t\t\t</div>\n",
       "\n",
       "<br/>\n",
       "\t\t\t<!--fc2.com/home -->\n",
       "\t\t<script type=\"text/javascript\">\n",
       "\t\tvar ord = window.ord || Math.floor(Math.random() * 1e16);\n",
       "\t\tdocument.write('<script type=\"text/javascript\" src=\"https://ad.doubleclick.net/N4403/adj/fc2.com/home;sect=home;sz=160x600;ord=' + ord + '?\"><¥/script>');\n",
       "\t\t</script>\n",
       "\t\t<noscript>\n",
       "\t\t<a href=\"https://ad.doubleclick.net/N4403/jump/fc2.com/home;sect=home;sz=160x600;ord=[timestamp]?\">\n",
       "\t\t<img height=\"600\" src=\"https://ad.doubleclick.net/N4403/ad/fc2.com/home;sect=home;sz=160x600;ord=[timestamp]?\" width=\"160\"/>\n",
       "\t\t</a>\n",
       "\t\t</noscript>\n",
       "\t\t<img height=\"1\" src=\"//media.fc2.com/counter_img.php?id=2658\" width=\"1\"/>\n",
       "\t\t</div><!-- /menu -->\n",
       "\n",
       "<!-- header_ad 468x60 -->\n",
       "\t<div id=\"ad_banner468x60\">\n",
       "\n",
       "   <!-- fc2.com/home -->\n",
       "   <script type=\"text/javascript\">\n",
       "     var ord = window.ord || Math.floor(Math.random() * 1e16);\n",
       "     document.write('<script type=\"text/javascript\" src=\"https://ad.doubleclick.net/N4403/adj/fc2.com/home;sect=home;sz=468x60;ord=' + ord + '?\"><¥/script>');\n",
       "   </script>\n",
       "   <noscript>\n",
       "   <a href=\"https://ad.doubleclick.net/N4403/jump/fc2.com/home;sect=home;sz=468x60;ord=[timestamp]?\">\n",
       "   <img height=\"60\" src=\"https://ad.doubleclick.net/N4403/ad/fc2.com/home;sect=home;sz=468x60;ord=[timestamp]?\" width=\"468\"/>\n",
       "   </a>\n",
       "   </noscript>\n",
       "   <img height=\"1\" src=\"//media.fc2.com/counter_img.php?id=2660\" width=\"1\"/>\n",
       "\n",
       "\t</div>\n",
       "<!-- /header_ad 468x60 -->\n",
       "</div><!-- /container -->\n",
       "\n",
       "\n",
       "\n",
       "\n",
       "\n",
       "<link href=\"//static.fc2.com/share/fc2parts/css/fc2footer_languages.css\" rel=\"stylesheet\" type=\"text/css\"/>\n",
       "<!-- English Common Footer Start -->\n",
       "<div id=\"footer_global\">\n",
       "\t<div id=\"fc2menu_global\">\n",
       "\t\t<p class=\"fc2top\"><a href=\"//fc2.com/en/\" title=\"FC2 Home\"><img alt=\"FC2\" height=\"38\" src=\"//static.fc2.com/share/fc2footermenu/blank.gif\" width=\"101\"/></a></p>\n",
       "\t\t<ul><!--\n",
       "\t\t\t--><li>\n",
       "\t\t\t\t<dl>\n",
       "\t\t\t\t\t<dt><a href=\"//blog.fc2.com/en/\" title=\"FC2 Blog\">Blog</a></dt>\n",
       "\t\t\t\t\t<dd>Easy to use! Perfect for beginners! Tons of templates available!</dd>\n",
       "\t\t\t\t</dl>\n",
       "\t\t\t\t<dl>\n",
       "\t\t\t\t\t<dt><a href=\"//video.fc2.com/en/\" title=\"FC2 Videos\">Videos</a></dt>\n",
       "\t\t\t\t\t<dd>Share and watch videos. Even from your Mobile Phone!</dd>\n",
       "\t\t\t\t</dl>\n",
       "\t\t\t\t<dl>\n",
       "\t\t\t\t\t<dt><a href=\"//live.fc2.com/en/\" title=\"FC2 Live\">Live</a></dt>\n",
       "\t\t\t\t\t<dd>Broadcast Your Own Program for others! Or talk to a friend or stranger in a Two-way Video Chat!</dd>\n",
       "\t\t\t\t</dl>\n",
       "\t\t\t</li>\n",
       "\t\t\t<li>\n",
       "\t\t\t\t<dl>\n",
       "\t\t\t\t\t<dt><a href=\"http://say-move.org/en/\" title=\"FC2 SayMove\">SayMove!</a></dt>\n",
       "\t\t\t\t\t<dd>Interact and leave comments on video clips at FC2 SayMove!</dd>\n",
       "\t\t\t\t</dl>\n",
       "\t\t\t\t<dl>\n",
       "\t\t\t\t\t<dt><a href=\"//web.fc2.com/en/\" title=\"FC2 Website\">Website</a></dt>\n",
       "\t\t\t\t\t<dd>No annoying ads! Free website hosting up to 1GB!</dd>\n",
       "\t\t\t\t</dl>\n",
       "\t\t\t\t<dl>\n",
       "\t\t\t\t\t<dt><a href=\"//analyzer.fc2.com/en/\" title=\"FC2 Analyzer\">Analyzer</a></dt>\n",
       "\t\t\t\t\t<dd>Analyze the visitors of up to 120 Pages of your website or blog!</dd>\n",
       "\t\t\t\t</dl>\n",
       "\t\t\t</li>\n",
       "\t\t\t<li>\n",
       "\t\t\t\t<dl>\n",
       "\t\t\t\t\t<dt><a href=\"//ranking.fc2.com/en/\" title=\"FC2 Ranking\">Ranking</a></dt>\n",
       "\t\t\t\t\t<dd>Determine your blog or website's access ranking!</dd>\n",
       "\t\t\t\t</dl>\n",
       "\t\t\t\t<dl>\n",
       "\t\t\t\t\t<dt><a href=\"//counter.fc2.com/en/\" title=\"FC2 Counter\">Counter</a></dt>\n",
       "\t\t\t\t\t<dd>Count visitors to your site. Hundreds of designs to choose from.</dd>\n",
       "\t\t\t\t</dl>\n",
       "\t\t\t\t<dl>\n",
       "\t\t\t\t\t<dt><a href=\"//clap.fc2.com/en/\" title=\"Click here to see the FC2 Clap.\">Clap</a></dt>\n",
       "\t\t\t\t\t<dd>Help visitors interact with your website or blog with a single click! Receive \"claps\" from visitors!</dd>\n",
       "\t\t\t\t</dl>\n",
       "\t\t\t</li>\n",
       "\t\t\t<li>\n",
       "\t\t\t\t<dl>\n",
       "\t\t\t\t\t<dt><a href=\"//bbs.fc2.com/en/\" title=\"FC2 BBS\">BBS</a></dt>\n",
       "\t\t\t\t\t<dd>Communicate with visitors!  Highly functional, strong anti-spam measures.</dd>\n",
       "\t\t\t\t</dl>\n",
       "\t\t\t\t<dl>\n",
       "\t\t\t\t\t<dt><a href=\"http://a.know-how.fc2.com/en/\" title=\"FC2 Knowhow\">Knowhow</a></dt>\n",
       "\t\t\t\t\t<dd>Share useful knowhow with others! Learn tidbits from an entire community!</dd>\n",
       "\t\t\t\t</dl>\n",
       "\t\t\t\t<dl>\n",
       "\t\t\t\t\t<dt><a href=\"//sns.fc2.com/en/\" title=\"FC2 SNS\">SNS</a></dt>\n",
       "\t\t\t\t\t<dd>Create your own Social Network! Make lifelong friends with similar interests!</dd>\n",
       "\t\t\t\t</dl>\n",
       "\t\t\t</li>\n",
       "\t\t\t<li>\n",
       "\t\t\t\t<dl>\n",
       "\t\t\t\t\t<dt><a href=\"//apps.fc2.com\" title=\"FC2 Apps\">Apps</a></dt>\n",
       "\t\t\t\t\t<dd>FC2 Services on your Smartphone!</dd>\n",
       "\t\t\t\t</dl>\n",
       "\t\t\t\t<dl>\n",
       "\t\t\t\t\t<dt><a href=\"//wifi.fc2.com/en/\" title=\"FC2 WiFi\">WiFi</a></dt>\n",
       "\t\t\t\t\t<dd>Connect to the Internet for Free wherever you are!</dd>\n",
       "\t\t\t\t</dl>\n",
       "\t\t\t\t<dl>\n",
       "\t\t\t\t\t<dt><a href=\"//r.fc2.com/en/\" title=\"FC2 Image Resizing Tool\">Image Resizing Tool</a></dt>\n",
       "\t\t\t\t\t<dd>Resize images. Make them fit your blog or website. Simple and easy to use.</dd>\n",
       "\t\t\t\t</dl>\n",
       "\t\t\t</li>\n",
       "\t\t</ul>\n",
       "\t</div><!-- /fc2menu_global -->\n",
       "\t<div id=\"footer_outline\">\n",
       "\t\t<ul>\n",
       "\t\t\t<li><a href=\"//fc2.com/en/company.html\" rel=\"nofollow\" title=\"About Us\">About Us</a></li><!--\n",
       "\t\t\t--><li><a href=\"https://form1ssl.fc2.com/form/?id=305274\" rel=\"nofollow\" title=\"Inquiries\">Inquiries</a></li><!--\n",
       "\t\t\t--><li><a href=\"//fc2.com/en/sales.html\" rel=\"nofollow\" title=\"Advertise with Us\">Advertise with Us</a></li><!--\n",
       "\t\t\t--><li><a href=\"//fc2.com/en/privacy.html\" rel=\"nofollow\" title=\"Privacy policy\">Privacy policy</a></li><!--\n",
       "\t\t\t--><li><a href=\"//help.fc2.com/copyrights/tos/en\" rel=\"nofollow\" title=\"Copyright\">Copyright</a></li><!--\n",
       "\t\t\t--><li><a href=\"http://fc2idmanualen.blog125.fc2.com/\" rel=\"nofollow\" title=\"Manual\">Manual</a></li><!--\n",
       "\t\t\t--><li><a href=\"//help.fc2.com/common/tos/en/\" rel=\"nofollow\" title=\"FC2 Terms of Use\">FC2 Terms of Use</a></li><!--\n",
       "\t\t\t--><li><a href=\"//fc2.com/careers/en/index.html\" title=\"FC2 Careers\">Careers</a></li>\n",
       "\t\t</ul>\n",
       "                                                <p class=\"copyright\">Copyright (c) 2017 fc2.com</p>\n",
       "                        \t</div><!-- /footer_outline -->\n",
       "</div><!-- /footer_global -->\n",
       "<!-- English Common Footer End -->\n",
       "<div id=\"sh_fc2footer_fix\" style=\"display:none;\"></div>\n",
       "\n",
       "\n",
       "\n",
       "\n",
       "\n",
       "\n",
       "\n",
       "\n",
       "\n",
       "\n",
       "\n",
       "<script type=\"text/javascript\">\n",
       "  var _gaq = _gaq || [];\n",
       "  _gaq.push(['_setAccount', 'UA-38220905-1']);\n",
       "  _gaq.push(['_trackPageview']);\n",
       "\n",
       "  (function() {\n",
       "    var ga = document.createElement('script'); ga.type = 'text/javascript'; ga.async = true;\n",
       "    ga.src = ('https:' == document.location.protocol ? 'https://ssl' : 'http://www') + '.google-analytics.com/ga.js';\n",
       "    var s = document.getElementsByTagName('script')[0]; s.parentNode.insertBefore(ga, s);\n",
       "  })();\n",
       "</script>\n",
       "\n",
       "\n",
       "\n",
       "\n",
       "\n",
       "\n",
       "\n",
       "\n",
       "\n",
       "\n",
       "\n",
       "\n",
       "<script type=\"text/javascript\">\n",
       "\n",
       "  var _gaq = _gaq || [];\n",
       "  _gaq.push(['_setAccount', 'UA-12020025-9']);\n",
       "  _gaq.push(['_trackPageview']);\n",
       "\n",
       "  (function() {\n",
       "    var ga = document.createElement('script'); ga.type = 'text/javascript'; ga.async = true;\n",
       "    ga.src = ('https:' == document.location.protocol ? 'https://ssl' : 'http://www') + '.google-analytics.com/ga.js';\n",
       "    var s = document.getElementsByTagName('script')[0]; s.parentNode.insertBefore(ga, s);\n",
       "  })();\n",
       "\n",
       "</script>\n",
       "\n",
       "\n",
       "</div>\n",
       "<script src=\"https://gdpr.fc2.com/share/js/gdpr/pp_agreement.pc.en.20180518.js\" type=\"text/javascript\"></script>\n",
       "\n",
       "\n",
       "</body></html>"
      ]
     },
     "execution_count": 17,
     "metadata": {},
     "output_type": "execute_result"
    }
   ],
   "source": [
    "soupObject1 = BeautifulSoup(response.content,'html5lib')\n",
    "soupObject1\n"
   ]
  },
  {
   "cell_type": "code",
   "execution_count": 7,
   "metadata": {
    "colab": {
     "base_uri": "https://localhost:8080/",
     "height": 125
    },
    "colab_type": "code",
    "collapsed": true,
    "id": "2krvmoAUv9Yp",
    "outputId": "5d99b1ed-4aa6-4df3-be7a-4f831e7674f0"
   },
   "outputs": [
    {
     "ename": "ModuleNotFoundError",
     "evalue": "No module named 'google'",
     "output_type": "error",
     "traceback": [
      "\u001b[1;31m---------------------------------------------------------------------------\u001b[0m",
      "\u001b[1;31mModuleNotFoundError\u001b[0m                       Traceback (most recent call last)",
      "\u001b[1;32m<ipython-input-7-d5df0069828e>\u001b[0m in \u001b[0;36m<module>\u001b[1;34m\u001b[0m\n\u001b[1;32m----> 1\u001b[1;33m \u001b[1;32mfrom\u001b[0m \u001b[0mgoogle\u001b[0m\u001b[1;33m.\u001b[0m\u001b[0mcolab\u001b[0m \u001b[1;32mimport\u001b[0m \u001b[0mdrive\u001b[0m\u001b[1;33m\u001b[0m\u001b[1;33m\u001b[0m\u001b[0m\n\u001b[0m\u001b[0;32m      2\u001b[0m \u001b[0mdrive\u001b[0m\u001b[1;33m.\u001b[0m\u001b[0mmount\u001b[0m\u001b[1;33m(\u001b[0m\u001b[1;34m'/content/drive'\u001b[0m\u001b[1;33m)\u001b[0m\u001b[1;33m\u001b[0m\u001b[1;33m\u001b[0m\u001b[0m\n",
      "\u001b[1;31mModuleNotFoundError\u001b[0m: No module named 'google'"
     ]
    }
   ],
   "source": [
    "from google.colab import drive\n",
    "drive.mount('/content/drive')"
   ]
  },
  {
   "cell_type": "code",
   "execution_count": 18,
   "metadata": {
    "colab": {},
    "colab_type": "code",
    "id": "-H5jZH2LrZZ9"
   },
   "outputs": [],
   "source": [
    "singleDIV = soupObject1.find('h2',attrs={\"class\":\"sh_heading_main_b\"})\n",
    "head = singleDIV.text\n",
    "ddList = []\n",
    "dtList = []\n",
    "singleDIV = soupObject1.find('div', attrs={'class':'service_body'})\n",
    "for singleDL in singleDIV.find_all('dl'):\n",
    "  dtList.append( singleDL.dt.a.nextSibling.text)\n",
    "  ddList.append(singleDL.dd.text)\n",
    "dfFinal1 = pd.DataFrame({'Data Term':dtList, 'Data description': ddList})  \n",
    "# dfFinal1.to_csv('/content/drive/My Drive/Colab/WebScraping/'+head+'.csv')"
   ]
  },
  {
   "cell_type": "code",
   "execution_count": 8,
   "metadata": {
    "colab": {},
    "colab_type": "code",
    "id": "K-t-HpJf0Ip-"
   },
   "outputs": [],
   "source": [
    "exampleURL2 = 'http://web.mta.info/developers/turnstile.html'\n",
    "response = requests.get(exampleURL2)"
   ]
  },
  {
   "cell_type": "code",
   "execution_count": 9,
   "metadata": {
    "colab": {},
    "colab_type": "code",
    "id": "huIrc2NZ0n_H"
   },
   "outputs": [],
   "source": [
    "soupObject2 =  BeautifulSoup(response.content,'html5lib')"
   ]
  },
  {
   "cell_type": "code",
   "execution_count": 12,
   "metadata": {
    "colab": {},
    "colab_type": "code",
    "collapsed": true,
    "id": "0Yq-Z79Y0vNB"
   },
   "outputs": [
    {
     "ename": "KeyboardInterrupt",
     "evalue": "",
     "output_type": "error",
     "traceback": [
      "\u001b[1;31m---------------------------------------------------------------------------\u001b[0m",
      "\u001b[1;31mKeyboardInterrupt\u001b[0m                         Traceback (most recent call last)",
      "\u001b[1;32m<ipython-input-12-bd1efe7e3f60>\u001b[0m in \u001b[0;36m<module>\u001b[1;34m\u001b[0m\n\u001b[0;32m      3\u001b[0m   \u001b[0mfilename\u001b[0m \u001b[1;33m=\u001b[0m \u001b[0mlink\u001b[0m\u001b[1;33m.\u001b[0m\u001b[0mtext\u001b[0m\u001b[1;33m\u001b[0m\u001b[1;33m\u001b[0m\u001b[0m\n\u001b[0;32m      4\u001b[0m   \u001b[0mresponse\u001b[0m \u001b[1;33m=\u001b[0m \u001b[0mrequests\u001b[0m\u001b[1;33m.\u001b[0m\u001b[0mget\u001b[0m\u001b[1;33m(\u001b[0m\u001b[1;34m'http://web.mta.info/developers/'\u001b[0m\u001b[1;33m+\u001b[0m\u001b[0mlink\u001b[0m\u001b[1;33m.\u001b[0m\u001b[0mget\u001b[0m\u001b[1;33m(\u001b[0m\u001b[1;34m'href'\u001b[0m\u001b[1;33m)\u001b[0m\u001b[1;33m)\u001b[0m\u001b[1;33m\u001b[0m\u001b[1;33m\u001b[0m\u001b[0m\n\u001b[1;32m----> 5\u001b[1;33m   \u001b[0msoupSubObject2\u001b[0m \u001b[1;33m=\u001b[0m \u001b[0mBeautifulSoup\u001b[0m\u001b[1;33m(\u001b[0m\u001b[0mresponse\u001b[0m\u001b[1;33m.\u001b[0m\u001b[0mcontent\u001b[0m\u001b[1;33m)\u001b[0m\u001b[1;33m\u001b[0m\u001b[1;33m\u001b[0m\u001b[0m\n\u001b[0m\u001b[0;32m      6\u001b[0m \u001b[1;31m#   with open('/content/webMtaInfo/'+filename+'.csv','w') as fd:\u001b[0m\u001b[1;33m\u001b[0m\u001b[1;33m\u001b[0m\u001b[1;33m\u001b[0m\u001b[0m\n\u001b[0;32m      7\u001b[0m \u001b[1;31m#     fd.writelines(soupSubObject2.text)\u001b[0m\u001b[1;33m\u001b[0m\u001b[1;33m\u001b[0m\u001b[1;33m\u001b[0m\u001b[0m\n",
      "\u001b[1;32md:\\workplace\\src\\python-training\\trainingsession\\lib\\site-packages\\bs4\\__init__.py\u001b[0m in \u001b[0;36m__init__\u001b[1;34m(self, markup, features, builder, parse_only, from_encoding, exclude_encodings, element_classes, **kwargs)\u001b[0m\n\u001b[0;32m    311\u001b[0m             \u001b[0mself\u001b[0m\u001b[1;33m.\u001b[0m\u001b[0mreset\u001b[0m\u001b[1;33m(\u001b[0m\u001b[1;33m)\u001b[0m\u001b[1;33m\u001b[0m\u001b[1;33m\u001b[0m\u001b[0m\n\u001b[0;32m    312\u001b[0m             \u001b[1;32mtry\u001b[0m\u001b[1;33m:\u001b[0m\u001b[1;33m\u001b[0m\u001b[1;33m\u001b[0m\u001b[0m\n\u001b[1;32m--> 313\u001b[1;33m                 \u001b[0mself\u001b[0m\u001b[1;33m.\u001b[0m\u001b[0m_feed\u001b[0m\u001b[1;33m(\u001b[0m\u001b[1;33m)\u001b[0m\u001b[1;33m\u001b[0m\u001b[1;33m\u001b[0m\u001b[0m\n\u001b[0m\u001b[0;32m    314\u001b[0m                 \u001b[0msuccess\u001b[0m \u001b[1;33m=\u001b[0m \u001b[1;32mTrue\u001b[0m\u001b[1;33m\u001b[0m\u001b[1;33m\u001b[0m\u001b[0m\n\u001b[0;32m    315\u001b[0m                 \u001b[1;32mbreak\u001b[0m\u001b[1;33m\u001b[0m\u001b[1;33m\u001b[0m\u001b[0m\n",
      "\u001b[1;32md:\\workplace\\src\\python-training\\trainingsession\\lib\\site-packages\\bs4\\__init__.py\u001b[0m in \u001b[0;36m_feed\u001b[1;34m(self)\u001b[0m\n\u001b[0;32m    380\u001b[0m         \u001b[0mself\u001b[0m\u001b[1;33m.\u001b[0m\u001b[0mbuilder\u001b[0m\u001b[1;33m.\u001b[0m\u001b[0mreset\u001b[0m\u001b[1;33m(\u001b[0m\u001b[1;33m)\u001b[0m\u001b[1;33m\u001b[0m\u001b[1;33m\u001b[0m\u001b[0m\n\u001b[0;32m    381\u001b[0m \u001b[1;33m\u001b[0m\u001b[0m\n\u001b[1;32m--> 382\u001b[1;33m         \u001b[0mself\u001b[0m\u001b[1;33m.\u001b[0m\u001b[0mbuilder\u001b[0m\u001b[1;33m.\u001b[0m\u001b[0mfeed\u001b[0m\u001b[1;33m(\u001b[0m\u001b[0mself\u001b[0m\u001b[1;33m.\u001b[0m\u001b[0mmarkup\u001b[0m\u001b[1;33m)\u001b[0m\u001b[1;33m\u001b[0m\u001b[1;33m\u001b[0m\u001b[0m\n\u001b[0m\u001b[0;32m    383\u001b[0m         \u001b[1;31m# Close out any unfinished strings and close all the open tags.\u001b[0m\u001b[1;33m\u001b[0m\u001b[1;33m\u001b[0m\u001b[1;33m\u001b[0m\u001b[0m\n\u001b[0;32m    384\u001b[0m         \u001b[0mself\u001b[0m\u001b[1;33m.\u001b[0m\u001b[0mendData\u001b[0m\u001b[1;33m(\u001b[0m\u001b[1;33m)\u001b[0m\u001b[1;33m\u001b[0m\u001b[1;33m\u001b[0m\u001b[0m\n",
      "\u001b[1;32md:\\workplace\\src\\python-training\\trainingsession\\lib\\site-packages\\bs4\\builder\\_html5lib.py\u001b[0m in \u001b[0;36mfeed\u001b[1;34m(self, markup)\u001b[0m\n\u001b[0;32m     74\u001b[0m             \u001b[1;32melse\u001b[0m\u001b[1;33m:\u001b[0m\u001b[1;33m\u001b[0m\u001b[1;33m\u001b[0m\u001b[0m\n\u001b[0;32m     75\u001b[0m                 \u001b[0mextra_kwargs\u001b[0m\u001b[1;33m[\u001b[0m\u001b[1;34m'encoding'\u001b[0m\u001b[1;33m]\u001b[0m \u001b[1;33m=\u001b[0m \u001b[0mself\u001b[0m\u001b[1;33m.\u001b[0m\u001b[0muser_specified_encoding\u001b[0m\u001b[1;33m\u001b[0m\u001b[1;33m\u001b[0m\u001b[0m\n\u001b[1;32m---> 76\u001b[1;33m         \u001b[0mdoc\u001b[0m \u001b[1;33m=\u001b[0m \u001b[0mparser\u001b[0m\u001b[1;33m.\u001b[0m\u001b[0mparse\u001b[0m\u001b[1;33m(\u001b[0m\u001b[0mmarkup\u001b[0m\u001b[1;33m,\u001b[0m \u001b[1;33m**\u001b[0m\u001b[0mextra_kwargs\u001b[0m\u001b[1;33m)\u001b[0m\u001b[1;33m\u001b[0m\u001b[1;33m\u001b[0m\u001b[0m\n\u001b[0m\u001b[0;32m     77\u001b[0m \u001b[1;33m\u001b[0m\u001b[0m\n\u001b[0;32m     78\u001b[0m         \u001b[1;31m# Set the character encoding detected by the tokenizer.\u001b[0m\u001b[1;33m\u001b[0m\u001b[1;33m\u001b[0m\u001b[1;33m\u001b[0m\u001b[0m\n",
      "\u001b[1;32md:\\workplace\\src\\python-training\\trainingsession\\lib\\site-packages\\html5lib\\html5parser.py\u001b[0m in \u001b[0;36mparse\u001b[1;34m(self, stream, *args, **kwargs)\u001b[0m\n\u001b[0;32m    287\u001b[0m \u001b[1;33m\u001b[0m\u001b[0m\n\u001b[0;32m    288\u001b[0m         \"\"\"\n\u001b[1;32m--> 289\u001b[1;33m         \u001b[0mself\u001b[0m\u001b[1;33m.\u001b[0m\u001b[0m_parse\u001b[0m\u001b[1;33m(\u001b[0m\u001b[0mstream\u001b[0m\u001b[1;33m,\u001b[0m \u001b[1;32mFalse\u001b[0m\u001b[1;33m,\u001b[0m \u001b[1;32mNone\u001b[0m\u001b[1;33m,\u001b[0m \u001b[1;33m*\u001b[0m\u001b[0margs\u001b[0m\u001b[1;33m,\u001b[0m \u001b[1;33m**\u001b[0m\u001b[0mkwargs\u001b[0m\u001b[1;33m)\u001b[0m\u001b[1;33m\u001b[0m\u001b[1;33m\u001b[0m\u001b[0m\n\u001b[0m\u001b[0;32m    290\u001b[0m         \u001b[1;32mreturn\u001b[0m \u001b[0mself\u001b[0m\u001b[1;33m.\u001b[0m\u001b[0mtree\u001b[0m\u001b[1;33m.\u001b[0m\u001b[0mgetDocument\u001b[0m\u001b[1;33m(\u001b[0m\u001b[1;33m)\u001b[0m\u001b[1;33m\u001b[0m\u001b[1;33m\u001b[0m\u001b[0m\n\u001b[0;32m    291\u001b[0m \u001b[1;33m\u001b[0m\u001b[0m\n",
      "\u001b[1;32md:\\workplace\\src\\python-training\\trainingsession\\lib\\site-packages\\html5lib\\html5parser.py\u001b[0m in \u001b[0;36m_parse\u001b[1;34m(self, stream, innerHTML, container, scripting, **kwargs)\u001b[0m\n\u001b[0;32m    132\u001b[0m \u001b[1;33m\u001b[0m\u001b[0m\n\u001b[0;32m    133\u001b[0m         \u001b[1;32mtry\u001b[0m\u001b[1;33m:\u001b[0m\u001b[1;33m\u001b[0m\u001b[1;33m\u001b[0m\u001b[0m\n\u001b[1;32m--> 134\u001b[1;33m             \u001b[0mself\u001b[0m\u001b[1;33m.\u001b[0m\u001b[0mmainLoop\u001b[0m\u001b[1;33m(\u001b[0m\u001b[1;33m)\u001b[0m\u001b[1;33m\u001b[0m\u001b[1;33m\u001b[0m\u001b[0m\n\u001b[0m\u001b[0;32m    135\u001b[0m         \u001b[1;32mexcept\u001b[0m \u001b[0m_ReparseException\u001b[0m\u001b[1;33m:\u001b[0m\u001b[1;33m\u001b[0m\u001b[1;33m\u001b[0m\u001b[0m\n\u001b[0;32m    136\u001b[0m             \u001b[0mself\u001b[0m\u001b[1;33m.\u001b[0m\u001b[0mreset\u001b[0m\u001b[1;33m(\u001b[0m\u001b[1;33m)\u001b[0m\u001b[1;33m\u001b[0m\u001b[1;33m\u001b[0m\u001b[0m\n",
      "\u001b[1;32md:\\workplace\\src\\python-training\\trainingsession\\lib\\site-packages\\html5lib\\html5parser.py\u001b[0m in \u001b[0;36mmainLoop\u001b[1;34m(self)\u001b[0m\n\u001b[0;32m    203\u001b[0m         \u001b[0mParseErrorToken\u001b[0m \u001b[1;33m=\u001b[0m \u001b[0mtokenTypes\u001b[0m\u001b[1;33m[\u001b[0m\u001b[1;34m\"ParseError\"\u001b[0m\u001b[1;33m]\u001b[0m\u001b[1;33m\u001b[0m\u001b[1;33m\u001b[0m\u001b[0m\n\u001b[0;32m    204\u001b[0m \u001b[1;33m\u001b[0m\u001b[0m\n\u001b[1;32m--> 205\u001b[1;33m         \u001b[1;32mfor\u001b[0m \u001b[0mtoken\u001b[0m \u001b[1;32min\u001b[0m \u001b[0mself\u001b[0m\u001b[1;33m.\u001b[0m\u001b[0mnormalizedTokens\u001b[0m\u001b[1;33m(\u001b[0m\u001b[1;33m)\u001b[0m\u001b[1;33m:\u001b[0m\u001b[1;33m\u001b[0m\u001b[1;33m\u001b[0m\u001b[0m\n\u001b[0m\u001b[0;32m    206\u001b[0m             \u001b[0mprev_token\u001b[0m \u001b[1;33m=\u001b[0m \u001b[1;32mNone\u001b[0m\u001b[1;33m\u001b[0m\u001b[1;33m\u001b[0m\u001b[0m\n\u001b[0;32m    207\u001b[0m             \u001b[0mnew_token\u001b[0m \u001b[1;33m=\u001b[0m \u001b[0mtoken\u001b[0m\u001b[1;33m\u001b[0m\u001b[1;33m\u001b[0m\u001b[0m\n",
      "\u001b[1;32md:\\workplace\\src\\python-training\\trainingsession\\lib\\site-packages\\html5lib\\html5parser.py\u001b[0m in \u001b[0;36mnormalizedTokens\u001b[1;34m(self)\u001b[0m\n\u001b[0;32m    262\u001b[0m \u001b[1;33m\u001b[0m\u001b[0m\n\u001b[0;32m    263\u001b[0m     \u001b[1;32mdef\u001b[0m \u001b[0mnormalizedTokens\u001b[0m\u001b[1;33m(\u001b[0m\u001b[0mself\u001b[0m\u001b[1;33m)\u001b[0m\u001b[1;33m:\u001b[0m\u001b[1;33m\u001b[0m\u001b[1;33m\u001b[0m\u001b[0m\n\u001b[1;32m--> 264\u001b[1;33m         \u001b[1;32mfor\u001b[0m \u001b[0mtoken\u001b[0m \u001b[1;32min\u001b[0m \u001b[0mself\u001b[0m\u001b[1;33m.\u001b[0m\u001b[0mtokenizer\u001b[0m\u001b[1;33m:\u001b[0m\u001b[1;33m\u001b[0m\u001b[1;33m\u001b[0m\u001b[0m\n\u001b[0m\u001b[0;32m    265\u001b[0m             \u001b[1;32myield\u001b[0m \u001b[0mself\u001b[0m\u001b[1;33m.\u001b[0m\u001b[0mnormalizeToken\u001b[0m\u001b[1;33m(\u001b[0m\u001b[0mtoken\u001b[0m\u001b[1;33m)\u001b[0m\u001b[1;33m\u001b[0m\u001b[1;33m\u001b[0m\u001b[0m\n\u001b[0;32m    266\u001b[0m \u001b[1;33m\u001b[0m\u001b[0m\n",
      "\u001b[1;32md:\\workplace\\src\\python-training\\trainingsession\\lib\\site-packages\\html5lib\\_tokenizer.py\u001b[0m in \u001b[0;36m__iter__\u001b[1;34m(self)\u001b[0m\n\u001b[0;32m     57\u001b[0m         \u001b[1;31m# Start processing. When EOF is reached self.state will return False\u001b[0m\u001b[1;33m\u001b[0m\u001b[1;33m\u001b[0m\u001b[1;33m\u001b[0m\u001b[0m\n\u001b[0;32m     58\u001b[0m         \u001b[1;31m# instead of True and the loop will terminate.\u001b[0m\u001b[1;33m\u001b[0m\u001b[1;33m\u001b[0m\u001b[1;33m\u001b[0m\u001b[0m\n\u001b[1;32m---> 59\u001b[1;33m         \u001b[1;32mwhile\u001b[0m \u001b[0mself\u001b[0m\u001b[1;33m.\u001b[0m\u001b[0mstate\u001b[0m\u001b[1;33m(\u001b[0m\u001b[1;33m)\u001b[0m\u001b[1;33m:\u001b[0m\u001b[1;33m\u001b[0m\u001b[1;33m\u001b[0m\u001b[0m\n\u001b[0m\u001b[0;32m     60\u001b[0m             \u001b[1;32mwhile\u001b[0m \u001b[0mself\u001b[0m\u001b[1;33m.\u001b[0m\u001b[0mstream\u001b[0m\u001b[1;33m.\u001b[0m\u001b[0merrors\u001b[0m\u001b[1;33m:\u001b[0m\u001b[1;33m\u001b[0m\u001b[1;33m\u001b[0m\u001b[0m\n\u001b[0;32m     61\u001b[0m                 \u001b[1;32myield\u001b[0m \u001b[1;33m{\u001b[0m\u001b[1;34m\"type\"\u001b[0m\u001b[1;33m:\u001b[0m \u001b[0mtokenTypes\u001b[0m\u001b[1;33m[\u001b[0m\u001b[1;34m\"ParseError\"\u001b[0m\u001b[1;33m]\u001b[0m\u001b[1;33m,\u001b[0m \u001b[1;34m\"data\"\u001b[0m\u001b[1;33m:\u001b[0m \u001b[0mself\u001b[0m\u001b[1;33m.\u001b[0m\u001b[0mstream\u001b[0m\u001b[1;33m.\u001b[0m\u001b[0merrors\u001b[0m\u001b[1;33m.\u001b[0m\u001b[0mpop\u001b[0m\u001b[1;33m(\u001b[0m\u001b[1;36m0\u001b[0m\u001b[1;33m)\u001b[0m\u001b[1;33m}\u001b[0m\u001b[1;33m\u001b[0m\u001b[1;33m\u001b[0m\u001b[0m\n",
      "\u001b[1;32md:\\workplace\\src\\python-training\\trainingsession\\lib\\site-packages\\html5lib\\_tokenizer.py\u001b[0m in \u001b[0;36mdataState\u001b[1;34m(self)\u001b[0m\n\u001b[0;32m    264\u001b[0m             \u001b[1;31m# any <!-- or --> sequences\u001b[0m\u001b[1;33m\u001b[0m\u001b[1;33m\u001b[0m\u001b[1;33m\u001b[0m\u001b[0m\n\u001b[0;32m    265\u001b[0m         \u001b[1;32melse\u001b[0m\u001b[1;33m:\u001b[0m\u001b[1;33m\u001b[0m\u001b[1;33m\u001b[0m\u001b[0m\n\u001b[1;32m--> 266\u001b[1;33m             \u001b[0mchars\u001b[0m \u001b[1;33m=\u001b[0m \u001b[0mself\u001b[0m\u001b[1;33m.\u001b[0m\u001b[0mstream\u001b[0m\u001b[1;33m.\u001b[0m\u001b[0mcharsUntil\u001b[0m\u001b[1;33m(\u001b[0m\u001b[1;33m(\u001b[0m\u001b[1;34m\"&\"\u001b[0m\u001b[1;33m,\u001b[0m \u001b[1;34m\"<\"\u001b[0m\u001b[1;33m,\u001b[0m \u001b[1;34m\"\\u0000\"\u001b[0m\u001b[1;33m)\u001b[0m\u001b[1;33m)\u001b[0m\u001b[1;33m\u001b[0m\u001b[1;33m\u001b[0m\u001b[0m\n\u001b[0m\u001b[0;32m    267\u001b[0m             self.tokenQueue.append({\"type\": tokenTypes[\"Characters\"], \"data\":\n\u001b[0;32m    268\u001b[0m                                     data + chars})\n",
      "\u001b[1;32md:\\workplace\\src\\python-training\\trainingsession\\lib\\site-packages\\html5lib\\_inputstream.py\u001b[0m in \u001b[0;36mcharsUntil\u001b[1;34m(self, characters, opposite)\u001b[0m\n\u001b[0;32m    358\u001b[0m             \u001b[1;31m# use it all and read the next chunk\u001b[0m\u001b[1;33m\u001b[0m\u001b[1;33m\u001b[0m\u001b[1;33m\u001b[0m\u001b[0m\n\u001b[0;32m    359\u001b[0m             \u001b[0mrv\u001b[0m\u001b[1;33m.\u001b[0m\u001b[0mappend\u001b[0m\u001b[1;33m(\u001b[0m\u001b[0mself\u001b[0m\u001b[1;33m.\u001b[0m\u001b[0mchunk\u001b[0m\u001b[1;33m[\u001b[0m\u001b[0mself\u001b[0m\u001b[1;33m.\u001b[0m\u001b[0mchunkOffset\u001b[0m\u001b[1;33m:\u001b[0m\u001b[1;33m]\u001b[0m\u001b[1;33m)\u001b[0m\u001b[1;33m\u001b[0m\u001b[1;33m\u001b[0m\u001b[0m\n\u001b[1;32m--> 360\u001b[1;33m             \u001b[1;32mif\u001b[0m \u001b[1;32mnot\u001b[0m \u001b[0mself\u001b[0m\u001b[1;33m.\u001b[0m\u001b[0mreadChunk\u001b[0m\u001b[1;33m(\u001b[0m\u001b[1;33m)\u001b[0m\u001b[1;33m:\u001b[0m\u001b[1;33m\u001b[0m\u001b[1;33m\u001b[0m\u001b[0m\n\u001b[0m\u001b[0;32m    361\u001b[0m                 \u001b[1;31m# Reached EOF\u001b[0m\u001b[1;33m\u001b[0m\u001b[1;33m\u001b[0m\u001b[1;33m\u001b[0m\u001b[0m\n\u001b[0;32m    362\u001b[0m                 \u001b[1;32mbreak\u001b[0m\u001b[1;33m\u001b[0m\u001b[1;33m\u001b[0m\u001b[0m\n",
      "\u001b[1;32md:\\workplace\\src\\python-training\\trainingsession\\lib\\site-packages\\html5lib\\_inputstream.py\u001b[0m in \u001b[0;36mreadChunk\u001b[1;34m(self, chunkSize)\u001b[0m\n\u001b[0;32m    280\u001b[0m \u001b[1;33m\u001b[0m\u001b[0m\n\u001b[0;32m    281\u001b[0m         \u001b[1;32mif\u001b[0m \u001b[0mself\u001b[0m\u001b[1;33m.\u001b[0m\u001b[0mreportCharacterErrors\u001b[0m\u001b[1;33m:\u001b[0m\u001b[1;33m\u001b[0m\u001b[1;33m\u001b[0m\u001b[0m\n\u001b[1;32m--> 282\u001b[1;33m             \u001b[0mself\u001b[0m\u001b[1;33m.\u001b[0m\u001b[0mreportCharacterErrors\u001b[0m\u001b[1;33m(\u001b[0m\u001b[0mdata\u001b[0m\u001b[1;33m)\u001b[0m\u001b[1;33m\u001b[0m\u001b[1;33m\u001b[0m\u001b[0m\n\u001b[0m\u001b[0;32m    283\u001b[0m \u001b[1;33m\u001b[0m\u001b[0m\n\u001b[0;32m    284\u001b[0m         \u001b[1;31m# Replace invalid characters\u001b[0m\u001b[1;33m\u001b[0m\u001b[1;33m\u001b[0m\u001b[1;33m\u001b[0m\u001b[0m\n",
      "\u001b[1;32md:\\workplace\\src\\python-training\\trainingsession\\lib\\site-packages\\html5lib\\_inputstream.py\u001b[0m in \u001b[0;36mcharacterErrorsUCS4\u001b[1;34m(self, data)\u001b[0m\n\u001b[0;32m    292\u001b[0m \u001b[1;33m\u001b[0m\u001b[0m\n\u001b[0;32m    293\u001b[0m     \u001b[1;32mdef\u001b[0m \u001b[0mcharacterErrorsUCS4\u001b[0m\u001b[1;33m(\u001b[0m\u001b[0mself\u001b[0m\u001b[1;33m,\u001b[0m \u001b[0mdata\u001b[0m\u001b[1;33m)\u001b[0m\u001b[1;33m:\u001b[0m\u001b[1;33m\u001b[0m\u001b[1;33m\u001b[0m\u001b[0m\n\u001b[1;32m--> 294\u001b[1;33m         \u001b[1;32mfor\u001b[0m \u001b[0m_\u001b[0m \u001b[1;32min\u001b[0m \u001b[0mrange\u001b[0m\u001b[1;33m(\u001b[0m\u001b[0mlen\u001b[0m\u001b[1;33m(\u001b[0m\u001b[0minvalid_unicode_re\u001b[0m\u001b[1;33m.\u001b[0m\u001b[0mfindall\u001b[0m\u001b[1;33m(\u001b[0m\u001b[0mdata\u001b[0m\u001b[1;33m)\u001b[0m\u001b[1;33m)\u001b[0m\u001b[1;33m)\u001b[0m\u001b[1;33m:\u001b[0m\u001b[1;33m\u001b[0m\u001b[1;33m\u001b[0m\u001b[0m\n\u001b[0m\u001b[0;32m    295\u001b[0m             \u001b[0mself\u001b[0m\u001b[1;33m.\u001b[0m\u001b[0merrors\u001b[0m\u001b[1;33m.\u001b[0m\u001b[0mappend\u001b[0m\u001b[1;33m(\u001b[0m\u001b[1;34m\"invalid-codepoint\"\u001b[0m\u001b[1;33m)\u001b[0m\u001b[1;33m\u001b[0m\u001b[1;33m\u001b[0m\u001b[0m\n\u001b[0;32m    296\u001b[0m \u001b[1;33m\u001b[0m\u001b[0m\n",
      "\u001b[1;31mKeyboardInterrupt\u001b[0m: "
     ]
    }
   ],
   "source": [
    "singleDIV = soupObject2.find('div', attrs={'class':'span-84 last'})\n",
    "for link in singleDIV.findAll('a'):\n",
    "  filename = link.text\n",
    "  response = requests.get('http://web.mta.info/developers/'+link.get('href'))\n",
    "  soupSubObject2 = BeautifulSoup(response.content)\n",
    "  with open('/content/webMtaInfo/'+filename+'.csv','w') as fd:\n",
    "    fd.writelines(soupSubObject2.text)\n",
    "\n"
   ]
  },
  {
   "cell_type": "code",
   "execution_count": 19,
   "metadata": {},
   "outputs": [
    {
     "data": {
      "text/html": [
       "<div>\n",
       "<style scoped>\n",
       "    .dataframe tbody tr th:only-of-type {\n",
       "        vertical-align: middle;\n",
       "    }\n",
       "\n",
       "    .dataframe tbody tr th {\n",
       "        vertical-align: top;\n",
       "    }\n",
       "\n",
       "    .dataframe thead th {\n",
       "        text-align: right;\n",
       "    }\n",
       "</style>\n",
       "<table border=\"1\" class=\"dataframe\">\n",
       "  <thead>\n",
       "    <tr style=\"text-align: right;\">\n",
       "      <th></th>\n",
       "      <th>Data Term</th>\n",
       "      <th>Data description</th>\n",
       "    </tr>\n",
       "  </thead>\n",
       "  <tbody>\n",
       "    <tr>\n",
       "      <th>0</th>\n",
       "      <td>Blog</td>\n",
       "      <td>Easy for beginners! Plenty of templates availa...</td>\n",
       "    </tr>\n",
       "    <tr>\n",
       "      <th>1</th>\n",
       "      <td>Video</td>\n",
       "      <td>Upload your favorite videos. Watch them from y...</td>\n",
       "    </tr>\n",
       "    <tr>\n",
       "      <th>2</th>\n",
       "      <td>Live</td>\n",
       "      <td>Broadcast a Program or enjoy a Two-way Video C...</td>\n",
       "    </tr>\n",
       "    <tr>\n",
       "      <th>3</th>\n",
       "      <td>SayMove!</td>\n",
       "      <td>Stream comments onto videos! It's like live co...</td>\n",
       "    </tr>\n",
       "    <tr>\n",
       "      <th>4</th>\n",
       "      <td>Content Market</td>\n",
       "      <td>Buy/Sell Digital Contents immediately with points</td>\n",
       "    </tr>\n",
       "    <tr>\n",
       "      <th>5</th>\n",
       "      <td>Free Website</td>\n",
       "      <td>No annoying ads, large-storage (1GB)! It's free!</td>\n",
       "    </tr>\n",
       "    <tr>\n",
       "      <th>6</th>\n",
       "      <td>Analyzer</td>\n",
       "      <td>Analyze visitors' movements! Choose your favor...</td>\n",
       "    </tr>\n",
       "    <tr>\n",
       "      <th>7</th>\n",
       "      <td>Ranking</td>\n",
       "      <td>See your own sites by ranking!</td>\n",
       "    </tr>\n",
       "    <tr>\n",
       "      <th>8</th>\n",
       "      <td>Counter</td>\n",
       "      <td>Lots of designs to choose from! Stop yourself ...</td>\n",
       "    </tr>\n",
       "    <tr>\n",
       "      <th>9</th>\n",
       "      <td>Clap</td>\n",
       "      <td>Send your cheers! Write your thanks.</td>\n",
       "    </tr>\n",
       "    <tr>\n",
       "      <th>10</th>\n",
       "      <td>BBS</td>\n",
       "      <td>Contact visitors! Compatible with mobile phone...</td>\n",
       "    </tr>\n",
       "    <tr>\n",
       "      <th>11</th>\n",
       "      <td>Knowhow</td>\n",
       "      <td>Share useful information and edit it together!</td>\n",
       "    </tr>\n",
       "    <tr>\n",
       "      <th>12</th>\n",
       "      <td>SNS</td>\n",
       "      <td>Create and manage your own Social Networking S...</td>\n",
       "    </tr>\n",
       "    <tr>\n",
       "      <th>13</th>\n",
       "      <td>Apps</td>\n",
       "      <td>FC2 Apps optimized for Smartphones.</td>\n",
       "    </tr>\n",
       "    <tr>\n",
       "      <th>14</th>\n",
       "      <td>WiFi</td>\n",
       "      <td>Connect to the Internet for Free wherever you ...</td>\n",
       "    </tr>\n",
       "    <tr>\n",
       "      <th>15</th>\n",
       "      <td>Image Resizing Tool</td>\n",
       "      <td>Resize an image as you want it to be.</td>\n",
       "    </tr>\n",
       "  </tbody>\n",
       "</table>\n",
       "</div>"
      ],
      "text/plain": [
       "              Data Term                                   Data description\n",
       "0                  Blog  Easy for beginners! Plenty of templates availa...\n",
       "1                 Video  Upload your favorite videos. Watch them from y...\n",
       "2                  Live  Broadcast a Program or enjoy a Two-way Video C...\n",
       "3              SayMove!  Stream comments onto videos! It's like live co...\n",
       "4        Content Market  Buy/Sell Digital Contents immediately with points\n",
       "5          Free Website   No annoying ads, large-storage (1GB)! It's free!\n",
       "6              Analyzer  Analyze visitors' movements! Choose your favor...\n",
       "7               Ranking                     See your own sites by ranking!\n",
       "8               Counter  Lots of designs to choose from! Stop yourself ...\n",
       "9                  Clap               Send your cheers! Write your thanks.\n",
       "10                  BBS  Contact visitors! Compatible with mobile phone...\n",
       "11              Knowhow     Share useful information and edit it together!\n",
       "12                  SNS  Create and manage your own Social Networking S...\n",
       "13                 Apps                FC2 Apps optimized for Smartphones.\n",
       "14                 WiFi  Connect to the Internet for Free wherever you ...\n",
       "15  Image Resizing Tool              Resize an image as you want it to be."
      ]
     },
     "execution_count": 19,
     "metadata": {},
     "output_type": "execute_result"
    }
   ],
   "source": [
    "dfFinal1"
   ]
  },
  {
   "cell_type": "markdown",
   "metadata": {
    "colab_type": "text",
    "id": "uNFlzy7Zvnzv"
   },
   "source": [
    "Connecting with database"
   ]
  },
  {
   "cell_type": "code",
   "execution_count": 20,
   "metadata": {
    "colab": {
     "base_uri": "https://localhost:8080/",
     "height": 370
    },
    "colab_type": "code",
    "id": "F-aNPmRtubam",
    "outputId": "aa479a68-6324-463e-8377-508dcdc50042"
   },
   "outputs": [],
   "source": [
    "import pymongo\n",
    "client = pymongo.MongoClient(\"localhost\", 27017)\n",
    "db = client.WebScraping\n",
    "# db.my_collection.insert_one({\"x\": 10}).inserted_id"
   ]
  },
  {
   "cell_type": "code",
   "execution_count": 21,
   "metadata": {},
   "outputs": [
    {
     "data": {
      "text/plain": [
       "'WebScraping'"
      ]
     },
     "execution_count": 21,
     "metadata": {},
     "output_type": "execute_result"
    }
   ],
   "source": [
    "db.name"
   ]
  },
  {
   "cell_type": "code",
   "execution_count": 22,
   "metadata": {},
   "outputs": [
    {
     "data": {
      "text/plain": [
       "Collection(Database(MongoClient(host=['localhost:27017'], document_class=dict, tz_aware=False, connect=True), 'WebScraping'), 'fc2.com')"
      ]
     },
     "execution_count": 22,
     "metadata": {},
     "output_type": "execute_result"
    }
   ],
   "source": [
    "db.create_collection('fc2.com')"
   ]
  },
  {
   "cell_type": "code",
   "execution_count": 26,
   "metadata": {},
   "outputs": [
    {
     "data": {
      "text/plain": [
       "<pymongo.results.InsertManyResult at 0x1ff4a91de08>"
      ]
     },
     "execution_count": 26,
     "metadata": {},
     "output_type": "execute_result"
    }
   ],
   "source": [
    "records = json.loads(dfFinal1.T.to_json()).values()\n",
    "db.fc2.com.insert_many(records)"
   ]
  },
  {
   "cell_type": "code",
   "execution_count": 29,
   "metadata": {},
   "outputs": [
    {
     "name": "stdout",
     "output_type": "stream",
     "text": [
      "{'_id': ObjectId('5dbfab43ea7c4bd35f4ec1b2'), 'Data Term': 'Blog', 'Data description': 'Easy for beginners! Plenty of templates available!'}\n",
      "{'_id': ObjectId('5dbfab43ea7c4bd35f4ec1b3'), 'Data Term': 'Video', 'Data description': 'Upload your favorite videos. Watch them from your mobile phone! Paying Members can watch in full High Definition!'}\n",
      "{'_id': ObjectId('5dbfab43ea7c4bd35f4ec1b4'), 'Data Term': 'Live', 'Data description': 'Broadcast a Program or enjoy a Two-way Video Chat.'}\n",
      "{'_id': ObjectId('5dbfab43ea7c4bd35f4ec1b5'), 'Data Term': 'SayMove!', 'Data description': \"Stream comments onto videos! It's like live commentary! Great Fun!\"}\n",
      "{'_id': ObjectId('5dbfab43ea7c4bd35f4ec1b6'), 'Data Term': 'Content Market', 'Data description': 'Buy/Sell Digital Contents immediately with points'}\n",
      "{'_id': ObjectId('5dbfab43ea7c4bd35f4ec1b7'), 'Data Term': 'Free Website', 'Data description': \"No annoying ads, large-storage (1GB)! It's free!\"}\n",
      "{'_id': ObjectId('5dbfab43ea7c4bd35f4ec1b8'), 'Data Term': 'Analyzer', 'Data description': \"Analyze visitors' movements! Choose your favorite analysis icon.\"}\n",
      "{'_id': ObjectId('5dbfab43ea7c4bd35f4ec1b9'), 'Data Term': 'Ranking', 'Data description': 'See your own sites by ranking!'}\n",
      "{'_id': ObjectId('5dbfab43ea7c4bd35f4ec1ba'), 'Data Term': 'Counter', 'Data description': 'Lots of designs to choose from! Stop yourself from being counted.'}\n",
      "{'_id': ObjectId('5dbfab43ea7c4bd35f4ec1bb'), 'Data Term': 'Clap', 'Data description': 'Send your cheers! Write your thanks.'}\n",
      "{'_id': ObjectId('5dbfab43ea7c4bd35f4ec1bc'), 'Data Term': 'BBS', 'Data description': 'Contact visitors! Compatible with mobile phones and emoticons.'}\n",
      "{'_id': ObjectId('5dbfab43ea7c4bd35f4ec1bd'), 'Data Term': 'Knowhow', 'Data description': 'Share useful information and edit it together!'}\n",
      "{'_id': ObjectId('5dbfab43ea7c4bd35f4ec1be'), 'Data Term': 'SNS', 'Data description': 'Create and manage your own Social Networking Service! Make new friends!'}\n",
      "{'_id': ObjectId('5dbfab43ea7c4bd35f4ec1bf'), 'Data Term': 'Apps', 'Data description': 'FC2 Apps optimized for Smartphones.'}\n",
      "{'_id': ObjectId('5dbfab43ea7c4bd35f4ec1c0'), 'Data Term': 'WiFi', 'Data description': 'Connect to the Internet for Free wherever you are!'}\n",
      "{'_id': ObjectId('5dbfab43ea7c4bd35f4ec1c1'), 'Data Term': 'Image Resizing Tool', 'Data description': 'Resize an image as you want it to be.'}\n"
     ]
    }
   ],
   "source": [
    "for item in db.fc2.com.find():\n",
    "    print(item)"
   ]
  },
  {
   "cell_type": "code",
   "execution_count": null,
   "metadata": {},
   "outputs": [],
   "source": [
    "db.my_collection.insert_one({\"x\": 8}).inserted_id\n",
    "db.my_collection.insert_one({\"x\": 11}).inserted_id\n",
    "db.my_collection.find_one()\n"
   ]
  },
  {
   "cell_type": "code",
   "execution_count": null,
   "metadata": {},
   "outputs": [],
   "source": [
    "for item in db.my_collection.find():\n",
    "    print(item[\"x\"])"
   ]
  },
  {
   "cell_type": "code",
   "execution_count": null,
   "metadata": {},
   "outputs": [],
   "source": [
    "db.my_collection.create_index(\"x\")"
   ]
  },
  {
   "cell_type": "code",
   "execution_count": null,
   "metadata": {},
   "outputs": [],
   "source": [
    "for item in db.my_collection.find().sort(\"x\", pymongo.ASCENDING):\n",
    "    print(item[\"x\"])"
   ]
  },
  {
   "cell_type": "code",
   "execution_count": null,
   "metadata": {},
   "outputs": [],
   "source": [
    "[item[\"x\"] for item in db.my_collection.find().limit(2).skip(1)]"
   ]
  },
  {
   "cell_type": "code",
   "execution_count": null,
   "metadata": {},
   "outputs": [],
   "source": [
    "db.my_collection.insert_one(pd.DataFrame({\"A\":[1,2,3],\"B\":[4,5,6]}).to_dict()).inserted_id\n"
   ]
  },
  {
   "cell_type": "code",
   "execution_count": null,
   "metadata": {},
   "outputs": [],
   "source": [
    "df = pd.DataFrame({\"A\":[1,2,3],\"B\":[4,5,6]})\n",
    "records = json.loads(df.T.to_json()).values()\n",
    "db.my_collection.insert_many(records)"
   ]
  },
  {
   "cell_type": "code",
   "execution_count": null,
   "metadata": {},
   "outputs": [],
   "source": [
    "for item in db.my_collection.find().sort(\"A\", pymongo.ASCENDING):\n",
    "    print(item)"
   ]
  },
  {
   "cell_type": "code",
   "execution_count": null,
   "metadata": {},
   "outputs": [],
   "source": [
    "#removes duplicates\n",
    "db.my_collection.aggregate([\n",
    "   {\"$group\": {\"_id\": {\"A\": \"$A\", \"B\": \"$B\"}}},\n",
    "   {\"$out\": \"dupCollection\"}\n",
    "])\n",
    "db.my_collection.delete_many({})\n",
    "for item in db.dupCollection.find():\n",
    "    db.my_collection.insert_one(item['_id'])"
   ]
  },
  {
   "cell_type": "code",
   "execution_count": null,
   "metadata": {},
   "outputs": [],
   "source": [
    "for item in db.my_collection.find().sort(\"A\", pymongo.ASCENDING):\n",
    "    print(item)"
   ]
  }
 ],
 "metadata": {
  "colab": {
   "collapsed_sections": [],
   "name": "Web Scraping.ipynb",
   "provenance": []
  },
  "kernelspec": {
   "display_name": "Python 3",
   "language": "python",
   "name": "python3"
  },
  "language_info": {
   "codemirror_mode": {
    "name": "ipython",
    "version": 3
   },
   "file_extension": ".py",
   "mimetype": "text/x-python",
   "name": "python",
   "nbconvert_exporter": "python",
   "pygments_lexer": "ipython3",
   "version": "3.7.3"
  }
 },
 "nbformat": 4,
 "nbformat_minor": 1
}
